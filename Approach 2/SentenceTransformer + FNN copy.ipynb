{
 "cells": [
  {
   "cell_type": "code",
   "execution_count": 1,
   "metadata": {},
   "outputs": [],
   "source": [
    "import warnings\n",
    "warnings.filterwarnings( 'ignore' )\n",
    "\n",
    "import os\n",
    "import random\n",
    "import numpy as np\n",
    "import pandas as pd\n",
    "import time\n",
    "from tqdm import tqdm\n",
    "import matplotlib.pyplot as plt\n",
    "from sklearn.model_selection import train_test_split\n",
    "\n",
    "import torch\n",
    "from transformers import get_linear_schedule_with_warmup\n",
    "from lightning_fabric import Fabric\n",
    "\n",
    "\n",
    "from utils.config import Parameters\n",
    "from utils.dataset import Dataset\n",
    "from utils.performance_evaluation import performance_evaluation\n",
    "from utils.utils import format_time\n",
    "from utils.logger import init_logger \n",
    "from utils.early_stopping import EarlyStopping\n",
    "from utils.Classifier import Classifier"
   ]
  },
  {
   "cell_type": "code",
   "execution_count": 2,
   "metadata": {},
   "outputs": [
    {
     "name": "stderr",
     "output_type": "stream",
     "text": [
      "Using bfloat16 Automatic Mixed Precision (AMP)\n"
     ]
    }
   ],
   "source": [
    "seed = 42\n",
    "\n",
    "np.random.seed(seed)\n",
    "random.seed(seed)\n",
    "torch.manual_seed(seed)\n",
    "torch.cuda.manual_seed(seed)\n",
    "# When running on the CuDNN backend, two further options must be set\n",
    "torch.backends.cudnn.deterministic = True\n",
    "torch.backends.cudnn.benchmark = False\n",
    "# Set a fixed value for the hash seed\n",
    "os.environ[\"PYTHONHASHSEED\"] = str(seed)\n",
    "torch.set_float32_matmul_precision('medium')\n",
    "\n",
    "\n",
    "# Setup Fabric\n",
    "fabric = Fabric(accelerator=\"auto\", devices=\"auto\", precision=\"bf16-mixed\", strategy=\"auto\")\n",
    "fabric.launch()"
   ]
  },
  {
   "attachments": {},
   "cell_type": "markdown",
   "metadata": {},
   "source": [
    "### Parameters"
   ]
  },
  {
   "cell_type": "code",
   "execution_count": 3,
   "metadata": {},
   "outputs": [],
   "source": [
    "# Get parameters\n",
    "args = Parameters()\n",
    "\n",
    "# Project directory\n",
    "if (not os.path.exists(args.output_dir)):\n",
    "    os.mkdir(args.output_dir)\n",
    "\n",
    "# Create logger\n",
    "logger = init_logger(log_file = 'logs.log') "
   ]
  },
  {
   "attachments": {},
   "cell_type": "markdown",
   "metadata": {},
   "source": [
    "### Data"
   ]
  },
  {
   "cell_type": "code",
   "execution_count": 4,
   "metadata": {},
   "outputs": [
    {
     "data": {
      "image/png": "[encoded data removed]",
      "text/plain": [
       "<Figure size 600x200 with 1 Axes>"
      ]
     },
     "metadata": {},
     "output_type": "display_data"
    }
   ],
   "source": [
    "df = pd.read_csv(args.dataset_path, sep='&')\n",
    "df['label'] = df['label'].astype('float')\n",
    "# Split Train/Test datasets\n",
    "df_train, df_test = train_test_split(df, test_size=args.test_size, shuffle=True, stratify=df['label'])\n",
    "# Create validation dataset\n",
    "df_train, df_valid = train_test_split(df_train, test_size=args.valid_size, shuffle=True, stratify=df_train['label'])\n",
    "\n",
    "# Reset indices\n",
    "df_train = df_train.reset_index().drop(['index'], axis=1)\n",
    "df_valid = df_valid.reset_index().drop(['index'], axis=1) \n",
    "df_test = df_test.reset_index().drop(['index'], axis=1)\n",
    "\n",
    "# Class Visualization\n",
    "plt.figure(figsize = (6,2))\n",
    "plt.hist(df_train['label']);\n",
    "plt.hist(df_test['label']);\n",
    "plt.hist(df_valid['label']);\n",
    "\n",
    "plt.legend(['Training', 'Validation', 'Testing'], frameon=False);"
   ]
  },
  {
   "attachments": {},
   "cell_type": "markdown",
   "metadata": {},
   "source": [
    "#### Data loaders"
   ]
  },
  {
   "cell_type": "code",
   "execution_count": 5,
   "metadata": {},
   "outputs": [
    {
     "name": "stderr",
     "output_type": "stream",
     "text": [
      "[INFO] Dataloader were created\n"
     ]
    }
   ],
   "source": [
    "# Create dataset\n",
    "train_dataset = Dataset(df_train)\n",
    "# Create data loader\n",
    "train_loader = torch.utils.data.DataLoader(train_dataset, batch_size=args.train_batch_size, shuffle=True)\n",
    "\n",
    "\n",
    "# Create dataset\n",
    "valid_dataset = Dataset(df_valid)\n",
    "# Create data loader\n",
    "valid_loader = torch.utils.data.DataLoader(valid_dataset, batch_size=args.train_batch_size, shuffle=False)\n",
    "\n",
    "\n",
    "# Create dataset\n",
    "test_dataset = Dataset(df_test)\n",
    "# Create data loader\n",
    "test_loader = torch.utils.data.DataLoader(test_dataset, batch_size=args.test_batch_size, shuffle=False)\n",
    "\n",
    "logger.info('Dataloader were created')"
   ]
  },
  {
   "attachments": {},
   "cell_type": "markdown",
   "metadata": {},
   "source": [
    "### Model"
   ]
  },
  {
   "cell_type": "code",
   "execution_count": 6,
   "metadata": {},
   "outputs": [
    {
     "data": {
      "application/vnd.jupyter.widget-view+json": {
       "model_id": "dd72178b326d4685a232ea0179fb7fa6",
       "version_major": 2,
       "version_minor": 0
      },
      "text/plain": [
       "Downloading:   0%|          | 0.00/1.11G [00:00<?, ?B/s]"
      ]
     },
     "metadata": {},
     "output_type": "display_data"
    },
    {
     "data": {
      "application/vnd.jupyter.widget-view+json": {
       "model_id": "4a3464ae13974d99abb4768e7139eec9",
       "version_major": 2,
       "version_minor": 0
      },
      "text/plain": [
       "Downloading:   0%|          | 0.00/398 [00:00<?, ?B/s]"
      ]
     },
     "metadata": {},
     "output_type": "display_data"
    },
    {
     "data": {
      "application/vnd.jupyter.widget-view+json": {
       "model_id": "2c1d9523b59a4fb3a43736dfa7d755d2",
       "version_major": 2,
       "version_minor": 0
      },
      "text/plain": [
       "Downloading:   0%|          | 0.00/5.07M [00:00<?, ?B/s]"
      ]
     },
     "metadata": {},
     "output_type": "display_data"
    },
    {
     "data": {
      "application/vnd.jupyter.widget-view+json": {
       "model_id": "0a48629d2be34d2a9ec5202da8560aa6",
       "version_major": 2,
       "version_minor": 0
      },
      "text/plain": [
       "Downloading:   0%|          | 0.00/9.08M [00:00<?, ?B/s]"
      ]
     },
     "metadata": {},
     "output_type": "display_data"
    },
    {
     "data": {
      "application/vnd.jupyter.widget-view+json": {
       "model_id": "e66e7e92dcbb4c1eb79da4740e0ef8bd",
       "version_major": 2,
       "version_minor": 0
      },
      "text/plain": [
       "Downloading:   0%|          | 0.00/239 [00:00<?, ?B/s]"
      ]
     },
     "metadata": {},
     "output_type": "display_data"
    },
    {
     "name": "stderr",
     "output_type": "stream",
     "text": [
      "[INFO] Use pytorch device: cuda\n"
     ]
    }
   ],
   "source": [
    "from sentence_transformers import SentenceTransformer, models\n",
    "from torch import nn\n",
    "\n",
    "word_embedding_model = models.Transformer(args.model_name, max_seq_length=256)\n",
    "pooling_model = models.Pooling(word_embedding_model.get_word_embedding_dimension())\n",
    "dense_model = models.Dense(in_features=pooling_model.get_sentence_embedding_dimension(), out_features=1, activation_function=nn.Sigmoid())\n",
    "\n",
    "model = SentenceTransformer(modules=[word_embedding_model, pooling_model, dense_model])\n",
    "\n",
    "model = model.to(args.device);"
   ]
  },
  {
   "attachments": {},
   "cell_type": "markdown",
   "metadata": {},
   "source": [
    "#### Training parameters"
   ]
  },
  {
   "cell_type": "code",
   "execution_count": 12,
   "metadata": {},
   "outputs": [
    {
     "name": "stderr",
     "output_type": "stream",
     "text": [
      "[INFO] Training parameters were setup\n"
     ]
    }
   ],
   "source": [
    "param_optimizer = list(model.named_parameters())\n",
    "no_decay = [\"bias\", \"LayerNorm.bias\", \"LayerNorm.weight\"]\n",
    "\n",
    "\n",
    "optimizer_parameters = [\n",
    "    {\n",
    "        \"params\": [\n",
    "            p for n, p in param_optimizer if not any(nd in n for nd in no_decay)\n",
    "        ],\n",
    "        \"weight_decay\": args.weight_decay,\n",
    "    },\n",
    "    {\n",
    "        \"params\": [\n",
    "            p for n, p in param_optimizer if any(nd in n for nd in no_decay)\n",
    "        ],\n",
    "        \"weight_decay\": 0.0,\n",
    "    },\n",
    "]\n",
    "\n",
    "# Setup optimizer\n",
    "if args.optimizer == 'AdamW':\n",
    "    optimizer = torch.optim.AdamW(optimizer_parameters, lr=args.learning_rate)\n",
    "elif args.optimizer == 'RMSprop':\n",
    "    optimizer = torch.optim.RMSprop(optimizer_parameters, lr=args.learning_rate)  \n",
    "elif args.optimizer == 'Adam':\n",
    "    optimizer = torch.optim.Adam(optimizer_parameters, lr=args.learning_rate)\n",
    "elif args.optimizer == 'SGD':\n",
    "    optimizer = torch.optim.SGD(optimizer_parameters, lr=args.learning_rate, momentum=args.momentum)\n",
    "    \n",
    "# Setup scheduler\n",
    "num_train_steps = int(train_loader.__len__() / args.train_batch_size * args.epochs)\n",
    "scheduler = get_linear_schedule_with_warmup(optimizer=optimizer, \n",
    "                                            num_warmup_steps=0, \n",
    "                                            num_training_steps=num_train_steps)\n",
    "# from utils.scheduler import LRScheduler\n",
    "# scheduler = LRScheduler(optimizer = optimizer, \n",
    "#                         patience  = 10, \n",
    "#                         min_lr    = 1e-8, \n",
    "#                         factor    = 0.5, \n",
    "#                         verbose   = True)\n",
    "\n",
    "# Early stopping\n",
    "early_stopping = EarlyStopping(patience  = 20,\n",
    "                               min_delta = 0)\n",
    "\n",
    "logger.info('Training parameters were setup')\n",
    "\n",
    "\n",
    "# Set loss function\n",
    "loss_fct = nn.BCELoss()"
   ]
  },
  {
   "cell_type": "code",
   "execution_count": 8,
   "metadata": {},
   "outputs": [],
   "source": [
    "# Convert model, loaders & optimizer to fabric setup\n",
    "model, optimizer = fabric.setup(model, optimizer)\n",
    "\n",
    "train_loader = fabric.setup_dataloaders(train_loader)\n",
    "valid_loader = fabric.setup_dataloaders(valid_loader)\n",
    "test_loader = fabric.setup_dataloaders(test_loader)"
   ]
  },
  {
   "attachments": {},
   "cell_type": "markdown",
   "metadata": {},
   "source": [
    "#### Training process"
   ]
  },
  {
   "cell_type": "code",
   "execution_count": 23,
   "metadata": {},
   "outputs": [
    {
     "name": "stderr",
     "output_type": "stream",
     "text": [
      "Epoch [1/50]: 100%|██████████| 71/71 [00:02<00:00, 27.79it/s, AUC=0.442, accuracy=47.54%, loss=0.706]\n",
      "Validation: 100%|██████████| 8/8 [00:00<00:00, 27.31it/s, AUC=0.562, accuracy=53.12%, loss=0.69]\n",
      "Epoch [2/50]: 100%|██████████| 71/71 [00:02<00:00, 28.28it/s, AUC=0.482, accuracy=53.52%, loss=0.69] \n",
      "Validation: 100%|██████████| 8/8 [00:00<00:00, 34.04it/s, AUC=0.5, accuracy=56.25%, loss=0.682]  \n",
      "Epoch [3/50]: 100%|██████████| 71/71 [00:02<00:00, 27.61it/s, AUC=0.506, accuracy=53.87%, loss=0.692]\n",
      "Validation: 100%|██████████| 8/8 [00:00<00:00, 30.69it/s, AUC=0.469, accuracy=53.12%, loss=0.692]\n",
      "Epoch [4/50]: 100%|██████████| 71/71 [00:02<00:00, 27.14it/s, AUC=0.452, accuracy=53.52%, loss=0.688]\n",
      "Validation: 100%|██████████| 8/8 [00:00<00:00, 25.15it/s, AUC=0.354, accuracy=37.50%, loss=0.708]\n",
      "Epoch [5/50]: 100%|██████████| 71/71 [00:02<00:00, 27.64it/s, AUC=0.426, accuracy=53.87%, loss=0.688]\n",
      "Validation: 100%|██████████| 8/8 [00:00<00:00, 29.19it/s, AUC=0.49, accuracy=50.00%, loss=0.698] \n",
      "Epoch [6/50]: 100%|██████████| 71/71 [00:02<00:00, 28.57it/s, AUC=0.504, accuracy=52.82%, loss=0.689]\n",
      "Validation: 100%|██████████| 8/8 [00:00<00:00, 27.91it/s, AUC=0.5, accuracy=50.00%, loss=0.69]   \n",
      "Epoch [7/50]: 100%|██████████| 71/71 [00:02<00:00, 27.29it/s, AUC=0.435, accuracy=50.70%, loss=0.69] \n",
      "Validation: 100%|██████████| 8/8 [00:00<00:00, 27.10it/s, AUC=0.594, accuracy=62.50%, loss=0.684]\n",
      "Epoch [8/50]: 100%|██████████| 71/71 [00:02<00:00, 27.48it/s, AUC=0.442, accuracy=53.52%, loss=0.686]\n",
      "Validation: 100%|██████████| 8/8 [00:00<00:00, 29.16it/s, AUC=0.51, accuracy=53.12%, loss=0.694] \n",
      "Epoch [9/50]: 100%|██████████| 71/71 [00:02<00:00, 28.24it/s, AUC=0.491, accuracy=55.99%, loss=0.682]\n",
      "Validation: 100%|██████████| 8/8 [00:00<00:00, 28.71it/s, AUC=0.604, accuracy=65.62%, loss=0.674]\n",
      "Epoch [10/50]: 100%|██████████| 71/71 [00:02<00:00, 27.30it/s, AUC=0.516, accuracy=56.69%, loss=0.685]\n",
      "Validation: 100%|██████████| 8/8 [00:00<00:00, 32.31it/s, AUC=0.396, accuracy=46.88%, loss=0.705]\n",
      "Epoch [11/50]: 100%|██████████| 71/71 [00:02<00:00, 27.85it/s, AUC=0.52, accuracy=60.56%, loss=0.675] \n",
      "Validation: 100%|██████████| 8/8 [00:00<00:00, 29.24it/s, AUC=0.458, accuracy=50.00%, loss=0.698]\n",
      "Epoch [12/50]: 100%|██████████| 71/71 [00:02<00:00, 29.00it/s, AUC=0.473, accuracy=57.39%, loss=0.681]\n",
      "Validation: 100%|██████████| 8/8 [00:00<00:00, 32.21it/s, AUC=0.719, accuracy=68.75%, loss=0.667]\n",
      "Epoch [13/50]: 100%|██████████| 71/71 [00:02<00:00, 28.44it/s, AUC=0.495, accuracy=55.63%, loss=0.684]\n",
      "Validation: 100%|██████████| 8/8 [00:00<00:00, 28.71it/s, AUC=0.5, accuracy=46.88%, loss=0.706]  \n",
      "Epoch [14/50]: 100%|██████████| 71/71 [00:02<00:00, 28.83it/s, AUC=0.521, accuracy=57.04%, loss=0.681]\n",
      "Validation: 100%|██████████| 8/8 [00:00<00:00, 33.30it/s, AUC=0.479, accuracy=53.12%, loss=0.692]\n",
      "Epoch [15/50]: 100%|██████████| 71/71 [00:02<00:00, 27.27it/s, AUC=0.505, accuracy=58.45%, loss=0.68] \n",
      "Validation: 100%|██████████| 8/8 [00:00<00:00, 27.36it/s, AUC=0.573, accuracy=59.38%, loss=0.689]\n",
      "Epoch [16/50]: 100%|██████████| 71/71 [00:02<00:00, 26.58it/s, AUC=0.533, accuracy=53.87%, loss=0.682]\n",
      "Validation: 100%|██████████| 8/8 [00:00<00:00, 17.67it/s, AUC=0.385, accuracy=40.62%, loss=0.714]\n",
      "Epoch [17/50]: 100%|██████████| 71/71 [00:03<00:00, 19.63it/s, AUC=0.525, accuracy=56.69%, loss=0.685]\n",
      "Validation: 100%|██████████| 8/8 [00:00<00:00, 20.55it/s, AUC=0.385, accuracy=40.62%, loss=0.714]\n",
      "Epoch [18/50]: 100%|██████████| 71/71 [00:03<00:00, 21.54it/s, AUC=0.518, accuracy=59.51%, loss=0.679]\n",
      "Validation: 100%|██████████| 8/8 [00:00<00:00, 23.54it/s, AUC=0.375, accuracy=43.75%, loss=0.707]\n",
      "Epoch [19/50]: 100%|██████████| 71/71 [00:03<00:00, 21.41it/s, AUC=0.523, accuracy=55.28%, loss=0.684]\n",
      "Validation: 100%|██████████| 8/8 [00:00<00:00, 22.58it/s, AUC=0.51, accuracy=62.50%, loss=0.692] \n",
      "Epoch [20/50]: 100%|██████████| 71/71 [00:03<00:00, 21.39it/s, AUC=0.481, accuracy=54.58%, loss=0.679]\n",
      "Validation: 100%|██████████| 8/8 [00:00<00:00, 22.47it/s, AUC=0.417, accuracy=37.50%, loss=0.71] \n",
      "Epoch [21/50]: 100%|██████████| 71/71 [00:02<00:00, 26.83it/s, AUC=0.513, accuracy=60.21%, loss=0.679]\n",
      "Validation: 100%|██████████| 8/8 [00:00<00:00, 28.91it/s, AUC=0.448, accuracy=50.00%, loss=0.692]\n",
      "Epoch [22/50]: 100%|██████████| 71/71 [00:02<00:00, 27.18it/s, AUC=0.471, accuracy=53.17%, loss=0.685]\n",
      "Validation: 100%|██████████| 8/8 [00:00<00:00, 24.84it/s, AUC=0.531, accuracy=59.38%, loss=0.678]\n",
      "Epoch [23/50]: 100%|██████████| 71/71 [00:02<00:00, 27.35it/s, AUC=0.478, accuracy=54.23%, loss=0.687]\n",
      "Validation: 100%|██████████| 8/8 [00:00<00:00, 29.02it/s, AUC=0.573, accuracy=65.62%, loss=0.682]\n",
      "Epoch [24/50]: 100%|██████████| 71/71 [00:02<00:00, 26.47it/s, AUC=0.441, accuracy=51.06%, loss=0.69] \n",
      "Validation: 100%|██████████| 8/8 [00:00<00:00, 25.89it/s, AUC=0.375, accuracy=50.00%, loss=0.697]"
     ]
    },
    {
     "name": "stdout",
     "output_type": "stream",
     "text": [
      "[INFO] Early stopping\n"
     ]
    },
    {
     "name": "stderr",
     "output_type": "stream",
     "text": [
      "\n"
     ]
    }
   ],
   "source": [
    "best_AUC = 0\n",
    "history = {'train_loss': [], 'valid_loss': [], \n",
    "           'train_accuracy': [], 'valid_accuracy': [], \n",
    "           'train_AUC': [], 'valid_AUC': []}\n",
    "\n",
    "\n",
    "for epoch in range(args.epochs):\n",
    "\n",
    "    t0 = time.time()\n",
    "\n",
    "    # Activate training mode\n",
    "    model.train()\n",
    "    \n",
    "    # setup loop with TQDM and dataloader\n",
    "    loop = tqdm(train_loader, leave=True)\n",
    "    # setup epoch's metrics\n",
    "    metrics = {'losses': [], 'accuracy': [], 'AUC': []}\n",
    "    # initialize calculated gradients (from prev step)\n",
    "    optimizer.zero_grad()\n",
    "    for step, batch in enumerate(loop):\n",
    "        # pull all tensor batches required for training\n",
    "        text = batch['text']\n",
    "        labels = batch['labels'].to(args.device)\n",
    "        # Get predictions\n",
    "        predictions = model.encode(text)\n",
    "        # Convert output & label type to Float    \n",
    "        predictions = predictions.type(torch.FloatTensor)\n",
    "        labels = labels.type(torch.FloatTensor)\n",
    "        # Calculate loss\n",
    "        loss = loss_fct(predictions.view(-1), labels)\n",
    "        # Calculate performance metrics\n",
    "        accuracy, AUC, _ = performance_evaluation(labels, predictions)\n",
    "        # extract loss - normalized\n",
    "        loss = loss / args.number_accumulated_gradients      \n",
    "        # Backpropagate errors  \n",
    "        fabric.backward(loss)\n",
    "\n",
    "        if (step+1) % args.number_accumulated_gradients == 0 or (step+1) % len(train_loader) == 0: \n",
    "            # update parameters\n",
    "            optimizer.step()\n",
    "            # Update scheduler\n",
    "            scheduler.step()\n",
    "            # Reset gradients tensors\n",
    "            optimizer.zero_grad()\n",
    "\n",
    "        # Add loss/accuracy/AUC\n",
    "        metrics['losses'].append(loss.item())\n",
    "        metrics['accuracy'].append(accuracy)\n",
    "        metrics['AUC'].append(AUC)\n",
    "\n",
    "\n",
    "        # add stuff to progress bar in the end\n",
    "        loop.set_description(f\"Epoch [{epoch+1}/{args.epochs}]\")\n",
    "        loop.set_postfix(loss=np.mean(metrics['losses']), accuracy=f\"{np.mean(metrics['accuracy']):.2f}%\", AUC=np.mean(metrics['AUC']))\n",
    "\n",
    "    # Calculate test loss/accuracy/AUC\n",
    "    train_loss = np.mean(metrics['losses'])\n",
    "    train_accuracy = np.mean(metrics['accuracy'])\n",
    "    train_AUC= np.mean(metrics['AUC'])\n",
    "\n",
    "\n",
    "    \n",
    "    model.eval()\n",
    "    # setup loop with TQDM and dataloader\n",
    "    loop = tqdm(valid_loader, leave=True)\n",
    "    # setup epoch's metrics\n",
    "    metrics = {'losses': [], 'accuracy': [], 'AUC': [], 'CM': None}\n",
    "    for step, batch in enumerate(loop):\n",
    "\n",
    "        # pull all tensor batches required for training\n",
    "        text = batch['text']\n",
    "        labels = batch['labels'].to(args.device)\n",
    "        # Get predictions\n",
    "        predictions = model.encode(text)\n",
    "        # Convert output & label type to Float    \n",
    "        predictions = predictions.type(torch.FloatTensor)\n",
    "        labels = labels.type(torch.FloatTensor)\n",
    "        # Calculate loss\n",
    "        loss = loss_fct(predictions.view(-1), labels)\n",
    "        \n",
    "        # Calculate performance metrics\n",
    "        accuracy, AUC, CM = performance_evaluation(labels, predictions)\n",
    "        # Add loss/accuracy/AUC\n",
    "        metrics['losses'].append(loss.item())\n",
    "        metrics['accuracy'].append(accuracy)\n",
    "        metrics['AUC'].append(AUC)\n",
    "        if metrics['CM'] is None: metrics['CM'] = CM \n",
    "        else: metrics['CM'] += CM\n",
    "\n",
    "        loop.set_description(\"Validation\")    \n",
    "        loop.set_postfix(loss=np.mean(metrics['losses']), accuracy=f\"{np.mean(metrics['accuracy']):.2f}%\", AUC=np.mean(metrics['AUC']))\n",
    "\n",
    "    # Calculate test loss/accuracy/AUC\n",
    "    valid_loss = np.mean(metrics['losses'])\n",
    "    valid_accuracy = np.mean(metrics['accuracy'])\n",
    "    valid_AUC= np.mean(metrics['AUC'])\n",
    "    # Elapsed time per epoch\n",
    "    elapsed = format_time(time.time() - t0)\n",
    "\n",
    "\n",
    "    # Store performance\n",
    "    history['train_loss'].append(train_loss)    \n",
    "    history['valid_loss'].append(valid_loss)\n",
    "    history['train_accuracy'].append(train_accuracy)    \n",
    "    history['valid_accuracy'].append(valid_accuracy)\n",
    "    history['train_AUC'].append(train_AUC)    \n",
    "    history['valid_AUC'].append(valid_AUC) \n",
    "\n",
    "    \n",
    "    # Update best model\n",
    "    if valid_AUC > best_AUC:\n",
    "        torch.save(model, os.path.join(args.output_dir, \"model.pt\"))\n",
    "        torch.save(model.state_dict(), os.path.join(args.output_dir, \"pytorch_model.bin\"))\n",
    "        best_AUC = valid_AUC    \n",
    "        \n",
    "    # # Learning rate scheduler\n",
    "    # scheduler(valid_loss)\n",
    "\n",
    "    # Early Stopping\n",
    "    if early_stopping(valid_loss): break    "
   ]
  },
  {
   "attachments": {},
   "cell_type": "markdown",
   "metadata": {},
   "source": [
    "#### Training performance"
   ]
  },
  {
   "cell_type": "code",
   "execution_count": 24,
   "metadata": {},
   "outputs": [
    {
     "data": {
      "image/png": "[encoded data removed]",
      "text/plain": [
       "<Figure size 1500x300 with 2 Axes>"
      ]
     },
     "metadata": {},
     "output_type": "display_data"
    }
   ],
   "source": [
    "df_results = pd.DataFrame.from_dict(history)\n",
    "\n",
    "fig, ax = plt.subplots(nrows=1, ncols=2, figsize=(15, 3))\n",
    "df_results[['train_accuracy','valid_accuracy']].plot(ax=ax[0], marker='o')\n",
    "df_results[['train_loss','valid_loss']].plot(ax=ax[1], marker='o')\n",
    "ax[0].legend(frameon=False, fontsize=12);\n",
    "ax[1].legend(frameon=False, fontsize=12);"
   ]
  },
  {
   "attachments": {},
   "cell_type": "markdown",
   "metadata": {},
   "source": [
    "#### Evaluation of Testing set"
   ]
  },
  {
   "cell_type": "code",
   "execution_count": 25,
   "metadata": {},
   "outputs": [
    {
     "name": "stdout",
     "output_type": "stream",
     "text": [
      "[INFO] Model loaded\n"
     ]
    }
   ],
   "source": [
    "# Load optimized model\n",
    "model = torch.load(f\"{args.output_dir}/model.pt\")\n",
    "model.eval();\n",
    "\n",
    "print('[INFO] Model loaded')"
   ]
  },
  {
   "cell_type": "code",
   "execution_count": 26,
   "metadata": {},
   "outputs": [
    {
     "name": "stderr",
     "output_type": "stream",
     "text": [
      "Validation: 100%|██████████| 5/5 [00:00<00:00, 13.12it/s, AUC=0.518, accuracy=51.83%, loss=0.699]\n"
     ]
    }
   ],
   "source": [
    "with torch.no_grad():\n",
    "\n",
    "    # setup loop with TQDM and dataloader\n",
    "    loop = tqdm(test_loader, leave=True)\n",
    "    # setup epoch's metrics\n",
    "    metrics = {'losses': [], 'accuracy': [], 'AUC': [], 'CM': 0}\n",
    "    for step, batch in enumerate(loop):\n",
    "        # pull all tensor batches required for training\n",
    "        text = batch['text']\n",
    "        labels = batch['labels'].to(args.device)\n",
    "        # Get loss & predictions\n",
    "        loss, predictions = model(text=text, labels=labels)\n",
    "        # Calculate performance metrics\n",
    "        accuracy, AUC, CM = performance_evaluation(labels, predictions)\n",
    "        \n",
    "        # Add loss/accuracy/AUC\n",
    "        metrics['losses'].append(loss.item())\n",
    "        metrics['accuracy'].append(accuracy)\n",
    "        metrics['AUC'].append(AUC)\n",
    "        if metrics['CM'] is None: metrics['CM'] = CM \n",
    "        else: metrics['CM'] += CM\n",
    "        \n",
    "        loop.set_description(\"Validation\")    \n",
    "        loop.set_postfix(loss=np.mean(metrics['losses']), accuracy=f\"{np.mean(metrics['accuracy']):.2f}%\", AUC=np.mean(metrics['AUC']))"
   ]
  },
  {
   "cell_type": "code",
   "execution_count": 27,
   "metadata": {},
   "outputs": [
    {
     "name": "stdout",
     "output_type": "stream",
     "text": [
      "Loss: 0.699\n",
      "Accuracy: 51.83%\n",
      "AUC: 0.518\n",
      "[[10 29]\n",
      " [ 9 31]]\n"
     ]
    }
   ],
   "source": [
    "print(f\"Loss: {np.mean(metrics['losses']):.3f}\")\n",
    "print(f\"Accuracy: {np.mean(metrics['accuracy']):.2f}%\")\n",
    "print(f\"AUC: {np.mean(metrics['AUC']):.3f}\")\n",
    "print(metrics['CM'])"
   ]
  },
  {
   "cell_type": "code",
   "execution_count": 28,
   "metadata": {},
   "outputs": [],
   "source": [
    "# import json\n",
    "\n",
    "# # Serialize JSON by converting all objects to strings\n",
    "# d = vars(args).copy()\n",
    "# d = {x:str(d[x]) for x in d.keys()}\n",
    "\n",
    "# # Store parameters\n",
    "# with open(args.output_dir + '/parameters.json', 'w') as fp:\n",
    "#     json.dump(d, fp)"
   ]
  },
  {
   "cell_type": "code",
   "execution_count": null,
   "metadata": {},
   "outputs": [],
   "source": [
    "# from sentence_transformers import SentenceTransformer, models\n",
    "# from torch import nn\n",
    "\n",
    "# word_embedding_model = models.Transformer(args.model_name, max_seq_length=256)\n",
    "# pooling_model = models.Pooling(word_embedding_model.get_word_embedding_dimension())\n",
    "# dense_model = models.Dense(in_features=pooling_model.get_sentence_embedding_dimension(), out_features=256, activation_function=nn.Tanh())\n",
    "\n",
    "# model = SentenceTransformer(modules=[word_embedding_model, pooling_model, dense_model])"
   ]
  }
 ],
 "metadata": {
  "kernelspec": {
   "display_name": "NLP",
   "language": "python",
   "name": "python3"
  },
  "language_info": {
   "codemirror_mode": {
    "name": "ipython",
    "version": 3
   },
   "file_extension": ".py",
   "mimetype": "text/x-python",
   "name": "python",
   "nbconvert_exporter": "python",
   "pygments_lexer": "ipython3",
   "version": "3.8.16"
  }
 },
 "nbformat": 4,
 "nbformat_minor": 4
}
